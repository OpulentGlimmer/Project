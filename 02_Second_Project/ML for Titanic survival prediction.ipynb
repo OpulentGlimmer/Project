{
 "cells": [
  {
   "cell_type": "code",
   "execution_count": 1,
   "id": "e36fcf97",
   "metadata": {},
   "outputs": [],
   "source": [
    "import warnings\n",
    "warnings.filterwarnings(\"ignore\")\n",
    "\n",
    "import pandas as pd\n",
    "import numpy as np\n",
    "import xgboost\n",
    "\n",
    "import matplotlib.pyplot as plt\n",
    "import seaborn as sns\n",
    "from sklearn.model_selection import train_test_split\n",
    "from sklearn.preprocessing import LabelEncoder, OneHotEncoder\n",
    "from sklearn import model_selection, linear_model, ensemble, tree, svm, neighbors\n",
    "from sklearn import metrics\n",
    "from sklearn.inspection import permutation_importance "
   ]
  },
  {
   "cell_type": "markdown",
   "id": "790d261f",
   "metadata": {},
   "source": [
    "## Data info\n",
    "\n",
    "- **PassengerId** : Unique ID of passenger\n",
    "- **Survived** : 0 = No, 1 = Yes\n",
    "- **pclass** : Ticket class `1 = 1st, 2 = 2nd, 3 = 3rd`\n",
    "- **sibsp** : # of siblings & spouses aboard the Titanic\n",
    "- **parch** : # of parents / children aboard the Titanic\n",
    "- **ticket** : Ticket number\n",
    "- **cabin** : Cabin number\n",
    "- **embarked** : Port of Embarkation `C = Cherbourg, Q = Queenstown, S = Southampton`\n",
    "- **Fare** : 운임\n"
   ]
  },
  {
   "cell_type": "markdown",
   "id": "89468624",
   "metadata": {},
   "source": [
    "<br>\n",
    "\n",
    "## 1. Preparing dataset (2번부터 실습 진행)"
   ]
  },
  {
   "cell_type": "code",
   "execution_count": 2,
   "id": "e51c46e5",
   "metadata": {
    "scrolled": false
   },
   "outputs": [
    {
     "data": {
      "text/html": [
       "<div>\n",
       "<style scoped>\n",
       "    .dataframe tbody tr th:only-of-type {\n",
       "        vertical-align: middle;\n",
       "    }\n",
       "\n",
       "    .dataframe tbody tr th {\n",
       "        vertical-align: top;\n",
       "    }\n",
       "\n",
       "    .dataframe thead th {\n",
       "        text-align: right;\n",
       "    }\n",
       "</style>\n",
       "<table border=\"1\" class=\"dataframe\">\n",
       "  <thead>\n",
       "    <tr style=\"text-align: right;\">\n",
       "      <th></th>\n",
       "      <th>PassengerId</th>\n",
       "      <th>Survived</th>\n",
       "      <th>Pclass</th>\n",
       "      <th>Name</th>\n",
       "      <th>Sex</th>\n",
       "      <th>Age</th>\n",
       "      <th>SibSp</th>\n",
       "      <th>Parch</th>\n",
       "      <th>Ticket</th>\n",
       "      <th>Fare</th>\n",
       "      <th>Cabin</th>\n",
       "      <th>Embarked</th>\n",
       "    </tr>\n",
       "  </thead>\n",
       "  <tbody>\n",
       "    <tr>\n",
       "      <th>0</th>\n",
       "      <td>1</td>\n",
       "      <td>0</td>\n",
       "      <td>3</td>\n",
       "      <td>Braund, Mr. Owen Harris</td>\n",
       "      <td>male</td>\n",
       "      <td>22.0</td>\n",
       "      <td>1</td>\n",
       "      <td>0</td>\n",
       "      <td>A/5 21171</td>\n",
       "      <td>7.2500</td>\n",
       "      <td>NaN</td>\n",
       "      <td>S</td>\n",
       "    </tr>\n",
       "    <tr>\n",
       "      <th>1</th>\n",
       "      <td>2</td>\n",
       "      <td>1</td>\n",
       "      <td>1</td>\n",
       "      <td>Cumings, Mrs. John Bradley (Florence Briggs Th...</td>\n",
       "      <td>female</td>\n",
       "      <td>38.0</td>\n",
       "      <td>1</td>\n",
       "      <td>0</td>\n",
       "      <td>PC 17599</td>\n",
       "      <td>71.2833</td>\n",
       "      <td>C85</td>\n",
       "      <td>C</td>\n",
       "    </tr>\n",
       "    <tr>\n",
       "      <th>2</th>\n",
       "      <td>3</td>\n",
       "      <td>1</td>\n",
       "      <td>3</td>\n",
       "      <td>Heikkinen, Miss. Laina</td>\n",
       "      <td>female</td>\n",
       "      <td>26.0</td>\n",
       "      <td>0</td>\n",
       "      <td>0</td>\n",
       "      <td>STON/O2. 3101282</td>\n",
       "      <td>7.9250</td>\n",
       "      <td>NaN</td>\n",
       "      <td>S</td>\n",
       "    </tr>\n",
       "    <tr>\n",
       "      <th>3</th>\n",
       "      <td>4</td>\n",
       "      <td>1</td>\n",
       "      <td>1</td>\n",
       "      <td>Futrelle, Mrs. Jacques Heath (Lily May Peel)</td>\n",
       "      <td>female</td>\n",
       "      <td>35.0</td>\n",
       "      <td>1</td>\n",
       "      <td>0</td>\n",
       "      <td>113803</td>\n",
       "      <td>53.1000</td>\n",
       "      <td>C123</td>\n",
       "      <td>S</td>\n",
       "    </tr>\n",
       "    <tr>\n",
       "      <th>4</th>\n",
       "      <td>5</td>\n",
       "      <td>0</td>\n",
       "      <td>3</td>\n",
       "      <td>Allen, Mr. William Henry</td>\n",
       "      <td>male</td>\n",
       "      <td>35.0</td>\n",
       "      <td>0</td>\n",
       "      <td>0</td>\n",
       "      <td>373450</td>\n",
       "      <td>8.0500</td>\n",
       "      <td>NaN</td>\n",
       "      <td>S</td>\n",
       "    </tr>\n",
       "    <tr>\n",
       "      <th>...</th>\n",
       "      <td>...</td>\n",
       "      <td>...</td>\n",
       "      <td>...</td>\n",
       "      <td>...</td>\n",
       "      <td>...</td>\n",
       "      <td>...</td>\n",
       "      <td>...</td>\n",
       "      <td>...</td>\n",
       "      <td>...</td>\n",
       "      <td>...</td>\n",
       "      <td>...</td>\n",
       "      <td>...</td>\n",
       "    </tr>\n",
       "    <tr>\n",
       "      <th>886</th>\n",
       "      <td>887</td>\n",
       "      <td>0</td>\n",
       "      <td>2</td>\n",
       "      <td>Montvila, Rev. Juozas</td>\n",
       "      <td>male</td>\n",
       "      <td>27.0</td>\n",
       "      <td>0</td>\n",
       "      <td>0</td>\n",
       "      <td>211536</td>\n",
       "      <td>13.0000</td>\n",
       "      <td>NaN</td>\n",
       "      <td>S</td>\n",
       "    </tr>\n",
       "    <tr>\n",
       "      <th>887</th>\n",
       "      <td>888</td>\n",
       "      <td>1</td>\n",
       "      <td>1</td>\n",
       "      <td>Graham, Miss. Margaret Edith</td>\n",
       "      <td>female</td>\n",
       "      <td>19.0</td>\n",
       "      <td>0</td>\n",
       "      <td>0</td>\n",
       "      <td>112053</td>\n",
       "      <td>30.0000</td>\n",
       "      <td>B42</td>\n",
       "      <td>S</td>\n",
       "    </tr>\n",
       "    <tr>\n",
       "      <th>888</th>\n",
       "      <td>889</td>\n",
       "      <td>0</td>\n",
       "      <td>3</td>\n",
       "      <td>Johnston, Miss. Catherine Helen \"Carrie\"</td>\n",
       "      <td>female</td>\n",
       "      <td>NaN</td>\n",
       "      <td>1</td>\n",
       "      <td>2</td>\n",
       "      <td>W./C. 6607</td>\n",
       "      <td>23.4500</td>\n",
       "      <td>NaN</td>\n",
       "      <td>S</td>\n",
       "    </tr>\n",
       "    <tr>\n",
       "      <th>889</th>\n",
       "      <td>890</td>\n",
       "      <td>1</td>\n",
       "      <td>1</td>\n",
       "      <td>Behr, Mr. Karl Howell</td>\n",
       "      <td>male</td>\n",
       "      <td>26.0</td>\n",
       "      <td>0</td>\n",
       "      <td>0</td>\n",
       "      <td>111369</td>\n",
       "      <td>30.0000</td>\n",
       "      <td>C148</td>\n",
       "      <td>C</td>\n",
       "    </tr>\n",
       "    <tr>\n",
       "      <th>890</th>\n",
       "      <td>891</td>\n",
       "      <td>0</td>\n",
       "      <td>3</td>\n",
       "      <td>Dooley, Mr. Patrick</td>\n",
       "      <td>male</td>\n",
       "      <td>32.0</td>\n",
       "      <td>0</td>\n",
       "      <td>0</td>\n",
       "      <td>370376</td>\n",
       "      <td>7.7500</td>\n",
       "      <td>NaN</td>\n",
       "      <td>Q</td>\n",
       "    </tr>\n",
       "  </tbody>\n",
       "</table>\n",
       "<p>891 rows × 12 columns</p>\n",
       "</div>"
      ],
      "text/plain": [
       "     PassengerId  Survived  Pclass  \\\n",
       "0              1         0       3   \n",
       "1              2         1       1   \n",
       "2              3         1       3   \n",
       "3              4         1       1   \n",
       "4              5         0       3   \n",
       "..           ...       ...     ...   \n",
       "886          887         0       2   \n",
       "887          888         1       1   \n",
       "888          889         0       3   \n",
       "889          890         1       1   \n",
       "890          891         0       3   \n",
       "\n",
       "                                                  Name     Sex   Age  SibSp  \\\n",
       "0                              Braund, Mr. Owen Harris    male  22.0      1   \n",
       "1    Cumings, Mrs. John Bradley (Florence Briggs Th...  female  38.0      1   \n",
       "2                               Heikkinen, Miss. Laina  female  26.0      0   \n",
       "3         Futrelle, Mrs. Jacques Heath (Lily May Peel)  female  35.0      1   \n",
       "4                             Allen, Mr. William Henry    male  35.0      0   \n",
       "..                                                 ...     ...   ...    ...   \n",
       "886                              Montvila, Rev. Juozas    male  27.0      0   \n",
       "887                       Graham, Miss. Margaret Edith  female  19.0      0   \n",
       "888           Johnston, Miss. Catherine Helen \"Carrie\"  female   NaN      1   \n",
       "889                              Behr, Mr. Karl Howell    male  26.0      0   \n",
       "890                                Dooley, Mr. Patrick    male  32.0      0   \n",
       "\n",
       "     Parch            Ticket     Fare Cabin Embarked  \n",
       "0        0         A/5 21171   7.2500   NaN        S  \n",
       "1        0          PC 17599  71.2833   C85        C  \n",
       "2        0  STON/O2. 3101282   7.9250   NaN        S  \n",
       "3        0            113803  53.1000  C123        S  \n",
       "4        0            373450   8.0500   NaN        S  \n",
       "..     ...               ...      ...   ...      ...  \n",
       "886      0            211536  13.0000   NaN        S  \n",
       "887      0            112053  30.0000   B42        S  \n",
       "888      2        W./C. 6607  23.4500   NaN        S  \n",
       "889      0            111369  30.0000  C148        C  \n",
       "890      0            370376   7.7500   NaN        Q  \n",
       "\n",
       "[891 rows x 12 columns]"
      ]
     },
     "execution_count": 2,
     "metadata": {},
     "output_type": "execute_result"
    }
   ],
   "source": [
    "data_df = pd.read_csv('./titanic.csv')\n",
    "data_df"
   ]
  },
  {
   "cell_type": "code",
   "execution_count": 3,
   "id": "f8778f57",
   "metadata": {},
   "outputs": [],
   "source": [
    "df1 = data_df.copy()"
   ]
  },
  {
   "cell_type": "code",
   "execution_count": 4,
   "id": "f2be2658",
   "metadata": {
    "colab": {
     "base_uri": "https://localhost:8080/",
     "height": 127
    },
    "colab_type": "code",
    "executionInfo": {
     "elapsed": 13775,
     "status": "ok",
     "timestamp": 1546723556658,
     "user": {
      "displayName": "Daeyeon Jo",
      "photoUrl": "https://lh4.googleusercontent.com/-9t4wvx9MYls/AAAAAAAAAAI/AAAAAAAAAC0/SPqWlKvQQMk/s64/photo.jpg",
      "userId": "05542487530960824006"
     },
     "user_tz": -540
    },
    "id": "EqR4honW16jn",
    "outputId": "35909889-315d-4a5f-815d-ce1535201ae0"
   },
   "outputs": [
    {
     "data": {
      "text/html": [
       "<div>\n",
       "<style scoped>\n",
       "    .dataframe tbody tr th:only-of-type {\n",
       "        vertical-align: middle;\n",
       "    }\n",
       "\n",
       "    .dataframe tbody tr th {\n",
       "        vertical-align: top;\n",
       "    }\n",
       "\n",
       "    .dataframe thead th {\n",
       "        text-align: right;\n",
       "    }\n",
       "</style>\n",
       "<table border=\"1\" class=\"dataframe\">\n",
       "  <thead>\n",
       "    <tr style=\"text-align: right;\">\n",
       "      <th></th>\n",
       "      <th>Survived</th>\n",
       "    </tr>\n",
       "  </thead>\n",
       "  <tbody>\n",
       "    <tr>\n",
       "      <th>0</th>\n",
       "      <td>0</td>\n",
       "    </tr>\n",
       "    <tr>\n",
       "      <th>1</th>\n",
       "      <td>1</td>\n",
       "    </tr>\n",
       "    <tr>\n",
       "      <th>2</th>\n",
       "      <td>1</td>\n",
       "    </tr>\n",
       "    <tr>\n",
       "      <th>3</th>\n",
       "      <td>1</td>\n",
       "    </tr>\n",
       "    <tr>\n",
       "      <th>4</th>\n",
       "      <td>0</td>\n",
       "    </tr>\n",
       "    <tr>\n",
       "      <th>...</th>\n",
       "      <td>...</td>\n",
       "    </tr>\n",
       "    <tr>\n",
       "      <th>886</th>\n",
       "      <td>0</td>\n",
       "    </tr>\n",
       "    <tr>\n",
       "      <th>887</th>\n",
       "      <td>1</td>\n",
       "    </tr>\n",
       "    <tr>\n",
       "      <th>888</th>\n",
       "      <td>0</td>\n",
       "    </tr>\n",
       "    <tr>\n",
       "      <th>889</th>\n",
       "      <td>1</td>\n",
       "    </tr>\n",
       "    <tr>\n",
       "      <th>890</th>\n",
       "      <td>0</td>\n",
       "    </tr>\n",
       "  </tbody>\n",
       "</table>\n",
       "<p>891 rows × 1 columns</p>\n",
       "</div>"
      ],
      "text/plain": [
       "     Survived\n",
       "0           0\n",
       "1           1\n",
       "2           1\n",
       "3           1\n",
       "4           0\n",
       "..        ...\n",
       "886         0\n",
       "887         1\n",
       "888         0\n",
       "889         1\n",
       "890         0\n",
       "\n",
       "[891 rows x 1 columns]"
      ]
     },
     "execution_count": 4,
     "metadata": {},
     "output_type": "execute_result"
    }
   ],
   "source": [
    "y_data = df1[['Survived']]\n",
    "y_data"
   ]
  },
  {
   "cell_type": "code",
   "execution_count": 5,
   "id": "0f0a8447",
   "metadata": {
    "scrolled": false
   },
   "outputs": [
    {
     "data": {
      "text/html": [
       "<div>\n",
       "<style scoped>\n",
       "    .dataframe tbody tr th:only-of-type {\n",
       "        vertical-align: middle;\n",
       "    }\n",
       "\n",
       "    .dataframe tbody tr th {\n",
       "        vertical-align: top;\n",
       "    }\n",
       "\n",
       "    .dataframe thead th {\n",
       "        text-align: right;\n",
       "    }\n",
       "</style>\n",
       "<table border=\"1\" class=\"dataframe\">\n",
       "  <thead>\n",
       "    <tr style=\"text-align: right;\">\n",
       "      <th></th>\n",
       "      <th>Pclass</th>\n",
       "      <th>Sex</th>\n",
       "      <th>Age</th>\n",
       "      <th>SibSp</th>\n",
       "      <th>Parch</th>\n",
       "      <th>Fare</th>\n",
       "      <th>Embarked</th>\n",
       "    </tr>\n",
       "  </thead>\n",
       "  <tbody>\n",
       "    <tr>\n",
       "      <th>0</th>\n",
       "      <td>3</td>\n",
       "      <td>male</td>\n",
       "      <td>22.0</td>\n",
       "      <td>1</td>\n",
       "      <td>0</td>\n",
       "      <td>7.2500</td>\n",
       "      <td>S</td>\n",
       "    </tr>\n",
       "    <tr>\n",
       "      <th>1</th>\n",
       "      <td>1</td>\n",
       "      <td>female</td>\n",
       "      <td>38.0</td>\n",
       "      <td>1</td>\n",
       "      <td>0</td>\n",
       "      <td>71.2833</td>\n",
       "      <td>C</td>\n",
       "    </tr>\n",
       "    <tr>\n",
       "      <th>2</th>\n",
       "      <td>3</td>\n",
       "      <td>female</td>\n",
       "      <td>26.0</td>\n",
       "      <td>0</td>\n",
       "      <td>0</td>\n",
       "      <td>7.9250</td>\n",
       "      <td>S</td>\n",
       "    </tr>\n",
       "    <tr>\n",
       "      <th>3</th>\n",
       "      <td>1</td>\n",
       "      <td>female</td>\n",
       "      <td>35.0</td>\n",
       "      <td>1</td>\n",
       "      <td>0</td>\n",
       "      <td>53.1000</td>\n",
       "      <td>S</td>\n",
       "    </tr>\n",
       "    <tr>\n",
       "      <th>4</th>\n",
       "      <td>3</td>\n",
       "      <td>male</td>\n",
       "      <td>35.0</td>\n",
       "      <td>0</td>\n",
       "      <td>0</td>\n",
       "      <td>8.0500</td>\n",
       "      <td>S</td>\n",
       "    </tr>\n",
       "    <tr>\n",
       "      <th>...</th>\n",
       "      <td>...</td>\n",
       "      <td>...</td>\n",
       "      <td>...</td>\n",
       "      <td>...</td>\n",
       "      <td>...</td>\n",
       "      <td>...</td>\n",
       "      <td>...</td>\n",
       "    </tr>\n",
       "    <tr>\n",
       "      <th>886</th>\n",
       "      <td>2</td>\n",
       "      <td>male</td>\n",
       "      <td>27.0</td>\n",
       "      <td>0</td>\n",
       "      <td>0</td>\n",
       "      <td>13.0000</td>\n",
       "      <td>S</td>\n",
       "    </tr>\n",
       "    <tr>\n",
       "      <th>887</th>\n",
       "      <td>1</td>\n",
       "      <td>female</td>\n",
       "      <td>19.0</td>\n",
       "      <td>0</td>\n",
       "      <td>0</td>\n",
       "      <td>30.0000</td>\n",
       "      <td>S</td>\n",
       "    </tr>\n",
       "    <tr>\n",
       "      <th>888</th>\n",
       "      <td>3</td>\n",
       "      <td>female</td>\n",
       "      <td>NaN</td>\n",
       "      <td>1</td>\n",
       "      <td>2</td>\n",
       "      <td>23.4500</td>\n",
       "      <td>S</td>\n",
       "    </tr>\n",
       "    <tr>\n",
       "      <th>889</th>\n",
       "      <td>1</td>\n",
       "      <td>male</td>\n",
       "      <td>26.0</td>\n",
       "      <td>0</td>\n",
       "      <td>0</td>\n",
       "      <td>30.0000</td>\n",
       "      <td>C</td>\n",
       "    </tr>\n",
       "    <tr>\n",
       "      <th>890</th>\n",
       "      <td>3</td>\n",
       "      <td>male</td>\n",
       "      <td>32.0</td>\n",
       "      <td>0</td>\n",
       "      <td>0</td>\n",
       "      <td>7.7500</td>\n",
       "      <td>Q</td>\n",
       "    </tr>\n",
       "  </tbody>\n",
       "</table>\n",
       "<p>891 rows × 7 columns</p>\n",
       "</div>"
      ],
      "text/plain": [
       "     Pclass     Sex   Age  SibSp  Parch     Fare Embarked\n",
       "0         3    male  22.0      1      0   7.2500        S\n",
       "1         1  female  38.0      1      0  71.2833        C\n",
       "2         3  female  26.0      0      0   7.9250        S\n",
       "3         1  female  35.0      1      0  53.1000        S\n",
       "4         3    male  35.0      0      0   8.0500        S\n",
       "..      ...     ...   ...    ...    ...      ...      ...\n",
       "886       2    male  27.0      0      0  13.0000        S\n",
       "887       1  female  19.0      0      0  30.0000        S\n",
       "888       3  female   NaN      1      2  23.4500        S\n",
       "889       1    male  26.0      0      0  30.0000        C\n",
       "890       3    male  32.0      0      0   7.7500        Q\n",
       "\n",
       "[891 rows x 7 columns]"
      ]
     },
     "execution_count": 5,
     "metadata": {},
     "output_type": "execute_result"
    }
   ],
   "source": [
    "del df1['Survived']\n",
    "x_data = df1\n",
    "x_data = x_data[['Pclass','Sex','Age','SibSp','Parch','Fare','Embarked']]\n",
    "x_data"
   ]
  },
  {
   "cell_type": "code",
   "execution_count": 6,
   "id": "42b0c1c1",
   "metadata": {
    "scrolled": true
   },
   "outputs": [
    {
     "name": "stdout",
     "output_type": "stream",
     "text": [
      "<class 'pandas.core.frame.DataFrame'>\n",
      "RangeIndex: 891 entries, 0 to 890\n",
      "Data columns (total 12 columns):\n",
      " #   Column       Non-Null Count  Dtype  \n",
      "---  ------       --------------  -----  \n",
      " 0   PassengerId  891 non-null    int64  \n",
      " 1   Survived     891 non-null    int64  \n",
      " 2   Pclass       891 non-null    int64  \n",
      " 3   Name         891 non-null    object \n",
      " 4   Sex          891 non-null    object \n",
      " 5   Age          714 non-null    float64\n",
      " 6   SibSp        891 non-null    int64  \n",
      " 7   Parch        891 non-null    int64  \n",
      " 8   Ticket       891 non-null    object \n",
      " 9   Fare         891 non-null    float64\n",
      " 10  Cabin        204 non-null    object \n",
      " 11  Embarked     889 non-null    object \n",
      "dtypes: float64(2), int64(5), object(5)\n",
      "memory usage: 83.7+ KB\n"
     ]
    }
   ],
   "source": [
    "data_df.info()"
   ]
  },
  {
   "cell_type": "markdown",
   "id": "88a39b52",
   "metadata": {},
   "source": [
    "<br>\n",
    "\n",
    "## 2. Feature engineering & Feature selection"
   ]
  },
  {
   "cell_type": "markdown",
   "id": "d2b3b27c",
   "metadata": {},
   "source": [
    "#### 시도해볼 수 있는 전략들\n",
    "\n",
    "- 불필요한 열이나 예측에 방해가 되는 열은 아예 지우기 (ex. PassengerId)\n",
    "- 결측치 채우기 \n",
    "- Text로 되어있는 Category(Factor)는 숫자로 바꿔주기 (ex. Male/Female -> 0/1)\n",
    "- 실수 범위를 구간 범위로 바꿔주기 (구간으로 나눌 필요 없음)\n",
    "- 필요한 경우 기존 열을 바탕으로 새로운 열을 계산해 추가하기"
   ]
  },
  {
   "cell_type": "markdown",
   "id": "e8b30a7c",
   "metadata": {},
   "source": [
    "## 2-1 Age 컬럼의 결측치 처리하기\n",
    "> * Age칼럼의 데이터는  `Numerical Data`이다 : <br>\n",
    "> * 칼럼의 결측치를 대푯값 (평균, 중앙, 최빈값)으로 각각 처리해보고 분류모델의 성능이 가장 잘 나오는 모델을 사용하기로 결정 <br>\n",
    "> * 모든 칼럼 중 우선적으로 Age칼럼의 결측치 처리를 위해 numerical column 모두와 object칼럼 중 성별 데이터를 feature로 사용하여 모델링 진행\n",
    "\n",
    "### 2-1-1 모델을 돌리기 위한 성별 데이터 인코딩"
   ]
  },
  {
   "cell_type": "code",
   "execution_count": 7,
   "id": "3f55ef90",
   "metadata": {},
   "outputs": [
    {
     "name": "stdout",
     "output_type": "stream",
     "text": [
      "<class 'pandas.core.frame.DataFrame'>\n",
      "RangeIndex: 891 entries, 0 to 890\n",
      "Data columns (total 7 columns):\n",
      " #   Column    Non-Null Count  Dtype  \n",
      "---  ------    --------------  -----  \n",
      " 0   Pclass    891 non-null    int64  \n",
      " 1   Sex       891 non-null    object \n",
      " 2   Age       714 non-null    float64\n",
      " 3   SibSp     891 non-null    int64  \n",
      " 4   Parch     891 non-null    int64  \n",
      " 5   Fare      891 non-null    float64\n",
      " 6   Embarked  889 non-null    object \n",
      "dtypes: float64(2), int64(3), object(2)\n",
      "memory usage: 48.9+ KB\n"
     ]
    }
   ],
   "source": [
    "x_data.info()"
   ]
  },
  {
   "cell_type": "code",
   "execution_count": 8,
   "id": "abd0b8b8",
   "metadata": {},
   "outputs": [],
   "source": [
    "# 레이블 인코딩을 사용함\n",
    "encoder = LabelEncoder()\n",
    "x_data.Sex = encoder.fit_transform(x_data.Sex)"
   ]
  },
  {
   "cell_type": "code",
   "execution_count": 9,
   "id": "2be7f5dc",
   "metadata": {},
   "outputs": [
    {
     "name": "stdout",
     "output_type": "stream",
     "text": [
      "<class 'pandas.core.frame.DataFrame'>\n",
      "RangeIndex: 891 entries, 0 to 890\n",
      "Data columns (total 7 columns):\n",
      " #   Column    Non-Null Count  Dtype  \n",
      "---  ------    --------------  -----  \n",
      " 0   Pclass    891 non-null    int64  \n",
      " 1   Sex       891 non-null    int32  \n",
      " 2   Age       714 non-null    float64\n",
      " 3   SibSp     891 non-null    int64  \n",
      " 4   Parch     891 non-null    int64  \n",
      " 5   Fare      891 non-null    float64\n",
      " 6   Embarked  889 non-null    object \n",
      "dtypes: float64(2), int32(1), int64(3), object(1)\n",
      "memory usage: 45.4+ KB\n"
     ]
    }
   ],
   "source": [
    "x_data.info()"
   ]
  },
  {
   "cell_type": "markdown",
   "id": "ae093882",
   "metadata": {},
   "source": [
    "### 2-1-2 Embarked 데이터 전처리"
   ]
  },
  {
   "cell_type": "code",
   "execution_count": 10,
   "id": "6d7ef0a7",
   "metadata": {},
   "outputs": [
    {
     "data": {
      "text/plain": [
       "S    644\n",
       "C    168\n",
       "Q     77\n",
       "Name: Embarked, dtype: int64"
      ]
     },
     "execution_count": 10,
     "metadata": {},
     "output_type": "execute_result"
    }
   ],
   "source": [
    "x_data.Embarked.value_counts()  # s가 646개로 최빈값이다"
   ]
  },
  {
   "cell_type": "code",
   "execution_count": 11,
   "id": "e32ca087",
   "metadata": {},
   "outputs": [],
   "source": [
    "# 최빈값인 S로 결측치를 채우기로 결정\n",
    "x_data['Embarked'] = x_data['Embarked'].fillna('S')"
   ]
  },
  {
   "cell_type": "code",
   "execution_count": 12,
   "id": "b60359e6",
   "metadata": {
    "scrolled": true
   },
   "outputs": [],
   "source": [
    "encoder = LabelEncoder()\n",
    "x_data.Embarked = encoder.fit_transform(x_data.Embarked)"
   ]
  },
  {
   "cell_type": "code",
   "execution_count": 13,
   "id": "444c43e3",
   "metadata": {},
   "outputs": [],
   "source": [
    "x_train, x_test, y_train, y_test = train_test_split(x_data, y_data, test_size=0.3, random_state=0)"
   ]
  },
  {
   "cell_type": "markdown",
   "id": "65e92f2a",
   "metadata": {},
   "source": [
    "### 2-1-3 평균, 중앙, 최빈값으로 각각 결측치를 채운 x_train 데이터 생성"
   ]
  },
  {
   "cell_type": "code",
   "execution_count": 14,
   "id": "ffabc137",
   "metadata": {},
   "outputs": [],
   "source": [
    "# x_train 복제\n",
    "mean_age_xtrain = x_train.copy()\n",
    "med_age_xtrain = x_train.copy()\n",
    "mode_age_xtrain = x_train.copy()"
   ]
  },
  {
   "cell_type": "code",
   "execution_count": 15,
   "id": "2a6d6126",
   "metadata": {},
   "outputs": [
    {
     "data": {
      "text/plain": [
       "0    24.0\n",
       "dtype: float64"
      ]
     },
     "execution_count": 15,
     "metadata": {},
     "output_type": "execute_result"
    }
   ],
   "source": [
    "x_data['Age'].mode()"
   ]
  },
  {
   "cell_type": "code",
   "execution_count": 16,
   "id": "8a86c7a6",
   "metadata": {},
   "outputs": [],
   "source": [
    "mean_age = x_train['Age'].mean(skipna=True)\n",
    "mean_age_xtrain['Age'] = mean_age_xtrain['Age'].fillna(mean_age) # or .fillna(int/float/str 값)\n",
    "\n",
    "med_age = x_train['Age'].median(skipna=True)\n",
    "med_age_xtrain['Age'] = med_age_xtrain['Age'].fillna(med_age) # or .fillna(int/float/str 값)\n",
    "\n",
    "mode_age = x_train['Age'].mode()  # 최빈값으로 결측치가 채워지지 않아서 값을 직접 집어넣음\n",
    "mode_age_xtrain['Age'] = mode_age_xtrain['Age'].fillna(24.0) # or .fillna(int/float/str 값)"
   ]
  },
  {
   "cell_type": "code",
   "execution_count": 17,
   "id": "3f091c91",
   "metadata": {},
   "outputs": [
    {
     "name": "stdout",
     "output_type": "stream",
     "text": [
      "<class 'pandas.core.frame.DataFrame'>\n",
      "Int64Index: 623 entries, 857 to 684\n",
      "Data columns (total 7 columns):\n",
      " #   Column    Non-Null Count  Dtype  \n",
      "---  ------    --------------  -----  \n",
      " 0   Pclass    623 non-null    int64  \n",
      " 1   Sex       623 non-null    int32  \n",
      " 2   Age       623 non-null    float64\n",
      " 3   SibSp     623 non-null    int64  \n",
      " 4   Parch     623 non-null    int64  \n",
      " 5   Fare      623 non-null    float64\n",
      " 6   Embarked  623 non-null    int32  \n",
      "dtypes: float64(2), int32(2), int64(3)\n",
      "memory usage: 34.1 KB\n"
     ]
    }
   ],
   "source": [
    "# 칼럼의 결측치 처리 완료\n",
    "mean_age_xtrain.info()"
   ]
  },
  {
   "cell_type": "code",
   "execution_count": 18,
   "id": "8f954bd3",
   "metadata": {},
   "outputs": [
    {
     "name": "stdout",
     "output_type": "stream",
     "text": [
      "<class 'pandas.core.frame.DataFrame'>\n",
      "Int64Index: 623 entries, 857 to 684\n",
      "Data columns (total 7 columns):\n",
      " #   Column    Non-Null Count  Dtype  \n",
      "---  ------    --------------  -----  \n",
      " 0   Pclass    623 non-null    int64  \n",
      " 1   Sex       623 non-null    int32  \n",
      " 2   Age       623 non-null    float64\n",
      " 3   SibSp     623 non-null    int64  \n",
      " 4   Parch     623 non-null    int64  \n",
      " 5   Fare      623 non-null    float64\n",
      " 6   Embarked  623 non-null    int32  \n",
      "dtypes: float64(2), int32(2), int64(3)\n",
      "memory usage: 34.1 KB\n"
     ]
    }
   ],
   "source": [
    "med_age_xtrain.info()"
   ]
  },
  {
   "cell_type": "code",
   "execution_count": 19,
   "id": "f8314e0c",
   "metadata": {},
   "outputs": [
    {
     "name": "stdout",
     "output_type": "stream",
     "text": [
      "<class 'pandas.core.frame.DataFrame'>\n",
      "Int64Index: 623 entries, 857 to 684\n",
      "Data columns (total 7 columns):\n",
      " #   Column    Non-Null Count  Dtype  \n",
      "---  ------    --------------  -----  \n",
      " 0   Pclass    623 non-null    int64  \n",
      " 1   Sex       623 non-null    int32  \n",
      " 2   Age       623 non-null    float64\n",
      " 3   SibSp     623 non-null    int64  \n",
      " 4   Parch     623 non-null    int64  \n",
      " 5   Fare      623 non-null    float64\n",
      " 6   Embarked  623 non-null    int32  \n",
      "dtypes: float64(2), int32(2), int64(3)\n",
      "memory usage: 34.1 KB\n"
     ]
    }
   ],
   "source": [
    "mode_age_xtrain.info()"
   ]
  },
  {
   "cell_type": "markdown",
   "id": "16bbef12",
   "metadata": {},
   "source": [
    "### 2-1-4 x_train의 평균, 중앙, 최빈값으로 각각 결측치를 채운 x_test 데이터 생성"
   ]
  },
  {
   "cell_type": "code",
   "execution_count": 20,
   "id": "a42c6081",
   "metadata": {},
   "outputs": [],
   "source": [
    "mean_age_xtest = x_test.copy()\n",
    "med_age_xtest = x_test.copy()\n",
    "mode_age_xtest = x_test.copy()\n",
    "\n",
    "mean_age_xtest['Age'] = mean_age_xtest['Age'].fillna(mean_age)\n",
    "med_age_xtest['Age'] = med_age_xtest['Age'].fillna(med_age)\n",
    "mode_age_xtest['Age'] = mode_age_xtest['Age'].fillna(24.0)"
   ]
  },
  {
   "cell_type": "code",
   "execution_count": 21,
   "id": "b4a8f403",
   "metadata": {},
   "outputs": [
    {
     "name": "stdout",
     "output_type": "stream",
     "text": [
      "<class 'pandas.core.frame.DataFrame'>\n",
      "Int64Index: 268 entries, 495 to 64\n",
      "Data columns (total 7 columns):\n",
      " #   Column    Non-Null Count  Dtype  \n",
      "---  ------    --------------  -----  \n",
      " 0   Pclass    268 non-null    int64  \n",
      " 1   Sex       268 non-null    int32  \n",
      " 2   Age       268 non-null    float64\n",
      " 3   SibSp     268 non-null    int64  \n",
      " 4   Parch     268 non-null    int64  \n",
      " 5   Fare      268 non-null    float64\n",
      " 6   Embarked  268 non-null    int32  \n",
      "dtypes: float64(2), int32(2), int64(3)\n",
      "memory usage: 14.7 KB\n"
     ]
    }
   ],
   "source": [
    "mean_age_xtest.info()"
   ]
  },
  {
   "cell_type": "code",
   "execution_count": 22,
   "id": "129bf3e7",
   "metadata": {},
   "outputs": [
    {
     "name": "stdout",
     "output_type": "stream",
     "text": [
      "<class 'pandas.core.frame.DataFrame'>\n",
      "Int64Index: 268 entries, 495 to 64\n",
      "Data columns (total 7 columns):\n",
      " #   Column    Non-Null Count  Dtype  \n",
      "---  ------    --------------  -----  \n",
      " 0   Pclass    268 non-null    int64  \n",
      " 1   Sex       268 non-null    int32  \n",
      " 2   Age       268 non-null    float64\n",
      " 3   SibSp     268 non-null    int64  \n",
      " 4   Parch     268 non-null    int64  \n",
      " 5   Fare      268 non-null    float64\n",
      " 6   Embarked  268 non-null    int32  \n",
      "dtypes: float64(2), int32(2), int64(3)\n",
      "memory usage: 14.7 KB\n"
     ]
    }
   ],
   "source": [
    "med_age_xtest.info()"
   ]
  },
  {
   "cell_type": "code",
   "execution_count": 23,
   "id": "368a402d",
   "metadata": {},
   "outputs": [
    {
     "name": "stdout",
     "output_type": "stream",
     "text": [
      "<class 'pandas.core.frame.DataFrame'>\n",
      "Int64Index: 268 entries, 495 to 64\n",
      "Data columns (total 7 columns):\n",
      " #   Column    Non-Null Count  Dtype  \n",
      "---  ------    --------------  -----  \n",
      " 0   Pclass    268 non-null    int64  \n",
      " 1   Sex       268 non-null    int32  \n",
      " 2   Age       268 non-null    float64\n",
      " 3   SibSp     268 non-null    int64  \n",
      " 4   Parch     268 non-null    int64  \n",
      " 5   Fare      268 non-null    float64\n",
      " 6   Embarked  268 non-null    int32  \n",
      "dtypes: float64(2), int32(2), int64(3)\n",
      "memory usage: 14.7 KB\n"
     ]
    }
   ],
   "source": [
    "mode_age_xtest.info()"
   ]
  },
  {
   "cell_type": "markdown",
   "id": "a8bf24ee",
   "metadata": {},
   "source": [
    "### 2-1-5 평균, 중앙, 최빈 모델의 정확도 확인\n",
    "- 모델은 GradientBoostingClassifier를 사용함\n",
    "- 세 대푯값 중 평균값으로 전처리 했을 때의 예측정확도가 0.84로 가장 높아서 중앙값으로 Age칼럼의 결측치를 채우기로 결정"
   ]
  },
  {
   "cell_type": "code",
   "execution_count": 24,
   "id": "bbb6324f",
   "metadata": {},
   "outputs": [
    {
     "name": "stdout",
     "output_type": "stream",
     "text": [
      "mean_age_Accuracy:  0.8432835820895522\n",
      "med_age_Accuracy:  0.835820895522388\n",
      "mean_age_Accuracy:  0.8097014925373134\n"
     ]
    }
   ],
   "source": [
    "model1 = ensemble.GradientBoostingClassifier(random_state=0)\n",
    "model1.fit(mean_age_xtrain, y_train)\n",
    "print('mean_age_Accuracy: ', metrics.accuracy_score(model1.predict(mean_age_xtest), y_test))\n",
    "\n",
    "model2 = ensemble.GradientBoostingClassifier(random_state=0)\n",
    "model2.fit(med_age_xtrain, y_train)\n",
    "print('med_age_Accuracy: ', metrics.accuracy_score(model2.predict(med_age_xtest), y_test))\n",
    "\n",
    "model3 = ensemble.GradientBoostingClassifier(random_state=0)\n",
    "model3.fit(mode_age_xtrain, y_train)\n",
    "print('mean_age_Accuracy: ', metrics.accuracy_score(model3.predict(mode_age_xtest), y_test))"
   ]
  },
  {
   "cell_type": "markdown",
   "id": "1501fb16",
   "metadata": {},
   "source": [
    "## 2-2 결측치처리, 칼럼 선별 후 데이터 Concat\n",
    "- 숫자형 컬럼 : 'Age','SibSp','Parch','Fare'\n",
    "- 범주형 컬럼 : 'Pclass', 'Embarked','Sex'"
   ]
  },
  {
   "cell_type": "code",
   "execution_count": 25,
   "id": "c1f3d41d",
   "metadata": {},
   "outputs": [],
   "source": [
    "df2 = data_df.copy()"
   ]
  },
  {
   "cell_type": "code",
   "execution_count": 26,
   "id": "eea140b1",
   "metadata": {
    "colab": {
     "base_uri": "https://localhost:8080/",
     "height": 127
    },
    "colab_type": "code",
    "executionInfo": {
     "elapsed": 13775,
     "status": "ok",
     "timestamp": 1546723556658,
     "user": {
      "displayName": "Daeyeon Jo",
      "photoUrl": "https://lh4.googleusercontent.com/-9t4wvx9MYls/AAAAAAAAAAI/AAAAAAAAAC0/SPqWlKvQQMk/s64/photo.jpg",
      "userId": "05542487530960824006"
     },
     "user_tz": -540
    },
    "id": "EqR4honW16jn",
    "outputId": "35909889-315d-4a5f-815d-ce1535201ae0"
   },
   "outputs": [
    {
     "data": {
      "text/html": [
       "<div>\n",
       "<style scoped>\n",
       "    .dataframe tbody tr th:only-of-type {\n",
       "        vertical-align: middle;\n",
       "    }\n",
       "\n",
       "    .dataframe tbody tr th {\n",
       "        vertical-align: top;\n",
       "    }\n",
       "\n",
       "    .dataframe thead th {\n",
       "        text-align: right;\n",
       "    }\n",
       "</style>\n",
       "<table border=\"1\" class=\"dataframe\">\n",
       "  <thead>\n",
       "    <tr style=\"text-align: right;\">\n",
       "      <th></th>\n",
       "      <th>Survived</th>\n",
       "    </tr>\n",
       "  </thead>\n",
       "  <tbody>\n",
       "    <tr>\n",
       "      <th>0</th>\n",
       "      <td>0</td>\n",
       "    </tr>\n",
       "    <tr>\n",
       "      <th>1</th>\n",
       "      <td>1</td>\n",
       "    </tr>\n",
       "    <tr>\n",
       "      <th>2</th>\n",
       "      <td>1</td>\n",
       "    </tr>\n",
       "    <tr>\n",
       "      <th>3</th>\n",
       "      <td>1</td>\n",
       "    </tr>\n",
       "    <tr>\n",
       "      <th>4</th>\n",
       "      <td>0</td>\n",
       "    </tr>\n",
       "    <tr>\n",
       "      <th>...</th>\n",
       "      <td>...</td>\n",
       "    </tr>\n",
       "    <tr>\n",
       "      <th>886</th>\n",
       "      <td>0</td>\n",
       "    </tr>\n",
       "    <tr>\n",
       "      <th>887</th>\n",
       "      <td>1</td>\n",
       "    </tr>\n",
       "    <tr>\n",
       "      <th>888</th>\n",
       "      <td>0</td>\n",
       "    </tr>\n",
       "    <tr>\n",
       "      <th>889</th>\n",
       "      <td>1</td>\n",
       "    </tr>\n",
       "    <tr>\n",
       "      <th>890</th>\n",
       "      <td>0</td>\n",
       "    </tr>\n",
       "  </tbody>\n",
       "</table>\n",
       "<p>891 rows × 1 columns</p>\n",
       "</div>"
      ],
      "text/plain": [
       "     Survived\n",
       "0           0\n",
       "1           1\n",
       "2           1\n",
       "3           1\n",
       "4           0\n",
       "..        ...\n",
       "886         0\n",
       "887         1\n",
       "888         0\n",
       "889         1\n",
       "890         0\n",
       "\n",
       "[891 rows x 1 columns]"
      ]
     },
     "execution_count": 26,
     "metadata": {},
     "output_type": "execute_result"
    }
   ],
   "source": [
    "y_data = df2[['Survived']]\n",
    "y_data"
   ]
  },
  {
   "cell_type": "code",
   "execution_count": 27,
   "id": "0898861c",
   "metadata": {
    "scrolled": false
   },
   "outputs": [
    {
     "data": {
      "text/html": [
       "<div>\n",
       "<style scoped>\n",
       "    .dataframe tbody tr th:only-of-type {\n",
       "        vertical-align: middle;\n",
       "    }\n",
       "\n",
       "    .dataframe tbody tr th {\n",
       "        vertical-align: top;\n",
       "    }\n",
       "\n",
       "    .dataframe thead th {\n",
       "        text-align: right;\n",
       "    }\n",
       "</style>\n",
       "<table border=\"1\" class=\"dataframe\">\n",
       "  <thead>\n",
       "    <tr style=\"text-align: right;\">\n",
       "      <th></th>\n",
       "      <th>Pclass</th>\n",
       "      <th>Sex</th>\n",
       "      <th>Age</th>\n",
       "      <th>SibSp</th>\n",
       "      <th>Parch</th>\n",
       "      <th>Fare</th>\n",
       "      <th>Embarked</th>\n",
       "    </tr>\n",
       "  </thead>\n",
       "  <tbody>\n",
       "    <tr>\n",
       "      <th>0</th>\n",
       "      <td>3</td>\n",
       "      <td>male</td>\n",
       "      <td>22.0</td>\n",
       "      <td>1</td>\n",
       "      <td>0</td>\n",
       "      <td>7.2500</td>\n",
       "      <td>S</td>\n",
       "    </tr>\n",
       "    <tr>\n",
       "      <th>1</th>\n",
       "      <td>1</td>\n",
       "      <td>female</td>\n",
       "      <td>38.0</td>\n",
       "      <td>1</td>\n",
       "      <td>0</td>\n",
       "      <td>71.2833</td>\n",
       "      <td>C</td>\n",
       "    </tr>\n",
       "    <tr>\n",
       "      <th>2</th>\n",
       "      <td>3</td>\n",
       "      <td>female</td>\n",
       "      <td>26.0</td>\n",
       "      <td>0</td>\n",
       "      <td>0</td>\n",
       "      <td>7.9250</td>\n",
       "      <td>S</td>\n",
       "    </tr>\n",
       "    <tr>\n",
       "      <th>3</th>\n",
       "      <td>1</td>\n",
       "      <td>female</td>\n",
       "      <td>35.0</td>\n",
       "      <td>1</td>\n",
       "      <td>0</td>\n",
       "      <td>53.1000</td>\n",
       "      <td>S</td>\n",
       "    </tr>\n",
       "    <tr>\n",
       "      <th>4</th>\n",
       "      <td>3</td>\n",
       "      <td>male</td>\n",
       "      <td>35.0</td>\n",
       "      <td>0</td>\n",
       "      <td>0</td>\n",
       "      <td>8.0500</td>\n",
       "      <td>S</td>\n",
       "    </tr>\n",
       "    <tr>\n",
       "      <th>...</th>\n",
       "      <td>...</td>\n",
       "      <td>...</td>\n",
       "      <td>...</td>\n",
       "      <td>...</td>\n",
       "      <td>...</td>\n",
       "      <td>...</td>\n",
       "      <td>...</td>\n",
       "    </tr>\n",
       "    <tr>\n",
       "      <th>886</th>\n",
       "      <td>2</td>\n",
       "      <td>male</td>\n",
       "      <td>27.0</td>\n",
       "      <td>0</td>\n",
       "      <td>0</td>\n",
       "      <td>13.0000</td>\n",
       "      <td>S</td>\n",
       "    </tr>\n",
       "    <tr>\n",
       "      <th>887</th>\n",
       "      <td>1</td>\n",
       "      <td>female</td>\n",
       "      <td>19.0</td>\n",
       "      <td>0</td>\n",
       "      <td>0</td>\n",
       "      <td>30.0000</td>\n",
       "      <td>S</td>\n",
       "    </tr>\n",
       "    <tr>\n",
       "      <th>888</th>\n",
       "      <td>3</td>\n",
       "      <td>female</td>\n",
       "      <td>NaN</td>\n",
       "      <td>1</td>\n",
       "      <td>2</td>\n",
       "      <td>23.4500</td>\n",
       "      <td>S</td>\n",
       "    </tr>\n",
       "    <tr>\n",
       "      <th>889</th>\n",
       "      <td>1</td>\n",
       "      <td>male</td>\n",
       "      <td>26.0</td>\n",
       "      <td>0</td>\n",
       "      <td>0</td>\n",
       "      <td>30.0000</td>\n",
       "      <td>C</td>\n",
       "    </tr>\n",
       "    <tr>\n",
       "      <th>890</th>\n",
       "      <td>3</td>\n",
       "      <td>male</td>\n",
       "      <td>32.0</td>\n",
       "      <td>0</td>\n",
       "      <td>0</td>\n",
       "      <td>7.7500</td>\n",
       "      <td>Q</td>\n",
       "    </tr>\n",
       "  </tbody>\n",
       "</table>\n",
       "<p>891 rows × 7 columns</p>\n",
       "</div>"
      ],
      "text/plain": [
       "     Pclass     Sex   Age  SibSp  Parch     Fare Embarked\n",
       "0         3    male  22.0      1      0   7.2500        S\n",
       "1         1  female  38.0      1      0  71.2833        C\n",
       "2         3  female  26.0      0      0   7.9250        S\n",
       "3         1  female  35.0      1      0  53.1000        S\n",
       "4         3    male  35.0      0      0   8.0500        S\n",
       "..      ...     ...   ...    ...    ...      ...      ...\n",
       "886       2    male  27.0      0      0  13.0000        S\n",
       "887       1  female  19.0      0      0  30.0000        S\n",
       "888       3  female   NaN      1      2  23.4500        S\n",
       "889       1    male  26.0      0      0  30.0000        C\n",
       "890       3    male  32.0      0      0   7.7500        Q\n",
       "\n",
       "[891 rows x 7 columns]"
      ]
     },
     "execution_count": 27,
     "metadata": {},
     "output_type": "execute_result"
    }
   ],
   "source": [
    "del df2['Survived']\n",
    "x_data = df2\n",
    "x_data = x_data[['Pclass','Sex','Age','SibSp','Parch','Fare','Embarked']]\n",
    "x_data"
   ]
  },
  {
   "cell_type": "markdown",
   "id": "77d0968b",
   "metadata": {},
   "source": [
    "<br>\n",
    "\n",
    "## 2. Train - Test split (비율을 7:3 으로 유지해주시고, seed는 0을 적용해주세요)"
   ]
  },
  {
   "cell_type": "code",
   "execution_count": 28,
   "id": "949e400b",
   "metadata": {},
   "outputs": [],
   "source": [
    "x_train, x_test, y_train, y_test = train_test_split(x_data, y_data, test_size=0.3, random_state=0)"
   ]
  },
  {
   "cell_type": "markdown",
   "id": "2b73dcf0",
   "metadata": {},
   "source": [
    "### Embarked 데이터 전처리"
   ]
  },
  {
   "cell_type": "code",
   "execution_count": 29,
   "id": "6abac67b",
   "metadata": {},
   "outputs": [
    {
     "data": {
      "text/plain": [
       "S    644\n",
       "C    168\n",
       "Q     77\n",
       "Name: Embarked, dtype: int64"
      ]
     },
     "execution_count": 29,
     "metadata": {},
     "output_type": "execute_result"
    }
   ],
   "source": [
    "x_data.Embarked.value_counts()"
   ]
  },
  {
   "cell_type": "code",
   "execution_count": 30,
   "id": "ca4cc638",
   "metadata": {},
   "outputs": [],
   "source": [
    "# 최빈값인 S로 처리하기로 결정\n",
    "x_train['Embarked'] = x_train['Embarked'].fillna('S')\n",
    "x_test['Embarked'] = x_test['Embarked'].fillna('S')"
   ]
  },
  {
   "cell_type": "markdown",
   "id": "029e5532",
   "metadata": {},
   "source": [
    "### Age 데이터 전처리"
   ]
  },
  {
   "cell_type": "code",
   "execution_count": 31,
   "id": "d938bb58",
   "metadata": {},
   "outputs": [],
   "source": [
    "med_age = x_train['Age'].median(skipna=True)\n",
    "x_train['Age'] = x_train['Age'].fillna(mean_age)\n",
    "x_test['Age'] = x_test['Age'].fillna(mean_age)"
   ]
  },
  {
   "cell_type": "markdown",
   "id": "58f28e0f",
   "metadata": {},
   "source": [
    "### pipeline통과시키기"
   ]
  },
  {
   "cell_type": "code",
   "execution_count": 32,
   "id": "2dd855ab",
   "metadata": {},
   "outputs": [],
   "source": [
    "from sklearn.preprocessing import StandardScaler, OneHotEncoder\n",
    "from sklearn.compose import ColumnTransformer\n",
    "from sklearn.pipeline import Pipeline\n",
    "\n",
    "# 숫자칼럼들만 모아서 전처리\n",
    "numeric_features = ['Age','SibSp','Parch','Fare']\n",
    "numeric_transformer = StandardScaler() # cf) RobustScaler MinMaxScaler\n",
    "\n",
    "# 범주칼럼들만 모아서 전처리 \n",
    "categorical_features = ['Pclass', 'Embarked','Sex']\n",
    "categorical_transformer = OneHotEncoder(categories='auto', \n",
    "                                        handle_unknown='ignore',)\n",
    "# 전처리 객체 생성\n",
    "preprocessor = ColumnTransformer(\n",
    "    transformers=[ # List of (name, transformer, column(s))\n",
    "        ('num', numeric_transformer, numeric_features),\n",
    "        ('cat', categorical_transformer, categorical_features)])\n",
    "\n",
    "# 파이프라인 돌리기\n",
    "preprocessor_pipe = Pipeline(steps=[('preprocessor', preprocessor)]) # preprocessing-only\n",
    "preprocessor_pipe.fit(x_train)\n",
    "\n",
    "# 트랜스폼\n",
    "x_train_transformed = preprocessor_pipe.transform(x_train)\n",
    "x_test_transformed = preprocessor_pipe.transform(x_test)\n",
    "\n",
    "# to dense로 재할당\n",
    "#x_train_transformed = x_train_transformed.todense()\n",
    "#x_test_transformed = x_test_transformed.todense()"
   ]
  },
  {
   "cell_type": "code",
   "execution_count": 33,
   "id": "b6ae152c",
   "metadata": {},
   "outputs": [
    {
     "data": {
      "text/html": [
       "<div>\n",
       "<style scoped>\n",
       "    .dataframe tbody tr th:only-of-type {\n",
       "        vertical-align: middle;\n",
       "    }\n",
       "\n",
       "    .dataframe tbody tr th {\n",
       "        vertical-align: top;\n",
       "    }\n",
       "\n",
       "    .dataframe thead th {\n",
       "        text-align: right;\n",
       "    }\n",
       "</style>\n",
       "<table border=\"1\" class=\"dataframe\">\n",
       "  <thead>\n",
       "    <tr style=\"text-align: right;\">\n",
       "      <th></th>\n",
       "      <th>0</th>\n",
       "      <th>1</th>\n",
       "      <th>2</th>\n",
       "      <th>3</th>\n",
       "      <th>4</th>\n",
       "      <th>5</th>\n",
       "      <th>6</th>\n",
       "      <th>7</th>\n",
       "      <th>8</th>\n",
       "      <th>9</th>\n",
       "      <th>10</th>\n",
       "      <th>11</th>\n",
       "    </tr>\n",
       "  </thead>\n",
       "  <tbody>\n",
       "    <tr>\n",
       "      <th>0</th>\n",
       "      <td>1.620744</td>\n",
       "      <td>-0.457246</td>\n",
       "      <td>-0.472998</td>\n",
       "      <td>-0.122530</td>\n",
       "      <td>1.0</td>\n",
       "      <td>0.0</td>\n",
       "      <td>0.0</td>\n",
       "      <td>0.0</td>\n",
       "      <td>0.0</td>\n",
       "      <td>1.0</td>\n",
       "      <td>0.0</td>\n",
       "      <td>1.0</td>\n",
       "    </tr>\n",
       "    <tr>\n",
       "      <th>1</th>\n",
       "      <td>1.467007</td>\n",
       "      <td>0.403371</td>\n",
       "      <td>-0.472998</td>\n",
       "      <td>0.918124</td>\n",
       "      <td>1.0</td>\n",
       "      <td>0.0</td>\n",
       "      <td>0.0</td>\n",
       "      <td>1.0</td>\n",
       "      <td>0.0</td>\n",
       "      <td>0.0</td>\n",
       "      <td>1.0</td>\n",
       "      <td>0.0</td>\n",
       "    </tr>\n",
       "    <tr>\n",
       "      <th>2</th>\n",
       "      <td>-2.222675</td>\n",
       "      <td>3.845840</td>\n",
       "      <td>1.932533</td>\n",
       "      <td>0.299503</td>\n",
       "      <td>0.0</td>\n",
       "      <td>0.0</td>\n",
       "      <td>1.0</td>\n",
       "      <td>0.0</td>\n",
       "      <td>0.0</td>\n",
       "      <td>1.0</td>\n",
       "      <td>0.0</td>\n",
       "      <td>1.0</td>\n",
       "    </tr>\n",
       "    <tr>\n",
       "      <th>3</th>\n",
       "      <td>1.851349</td>\n",
       "      <td>-0.457246</td>\n",
       "      <td>0.729768</td>\n",
       "      <td>0.929702</td>\n",
       "      <td>1.0</td>\n",
       "      <td>0.0</td>\n",
       "      <td>0.0</td>\n",
       "      <td>0.0</td>\n",
       "      <td>0.0</td>\n",
       "      <td>1.0</td>\n",
       "      <td>0.0</td>\n",
       "      <td>1.0</td>\n",
       "    </tr>\n",
       "    <tr>\n",
       "      <th>4</th>\n",
       "      <td>0.000000</td>\n",
       "      <td>0.403371</td>\n",
       "      <td>-0.472998</td>\n",
       "      <td>-0.373297</td>\n",
       "      <td>0.0</td>\n",
       "      <td>0.0</td>\n",
       "      <td>1.0</td>\n",
       "      <td>1.0</td>\n",
       "      <td>0.0</td>\n",
       "      <td>0.0</td>\n",
       "      <td>1.0</td>\n",
       "      <td>0.0</td>\n",
       "    </tr>\n",
       "    <tr>\n",
       "      <th>...</th>\n",
       "      <td>...</td>\n",
       "      <td>...</td>\n",
       "      <td>...</td>\n",
       "      <td>...</td>\n",
       "      <td>...</td>\n",
       "      <td>...</td>\n",
       "      <td>...</td>\n",
       "      <td>...</td>\n",
       "      <td>...</td>\n",
       "      <td>...</td>\n",
       "      <td>...</td>\n",
       "      <td>...</td>\n",
       "    </tr>\n",
       "    <tr>\n",
       "      <th>618</th>\n",
       "      <td>0.698323</td>\n",
       "      <td>0.403371</td>\n",
       "      <td>0.729768</td>\n",
       "      <td>1.051455</td>\n",
       "      <td>1.0</td>\n",
       "      <td>0.0</td>\n",
       "      <td>0.0</td>\n",
       "      <td>1.0</td>\n",
       "      <td>0.0</td>\n",
       "      <td>0.0</td>\n",
       "      <td>1.0</td>\n",
       "      <td>0.0</td>\n",
       "    </tr>\n",
       "    <tr>\n",
       "      <th>619</th>\n",
       "      <td>-0.839044</td>\n",
       "      <td>0.403371</td>\n",
       "      <td>-0.472998</td>\n",
       "      <td>-0.510258</td>\n",
       "      <td>0.0</td>\n",
       "      <td>0.0</td>\n",
       "      <td>1.0</td>\n",
       "      <td>0.0</td>\n",
       "      <td>0.0</td>\n",
       "      <td>1.0</td>\n",
       "      <td>1.0</td>\n",
       "      <td>0.0</td>\n",
       "    </tr>\n",
       "    <tr>\n",
       "      <th>620</th>\n",
       "      <td>0.000000</td>\n",
       "      <td>-0.457246</td>\n",
       "      <td>-0.472998</td>\n",
       "      <td>-0.512765</td>\n",
       "      <td>0.0</td>\n",
       "      <td>0.0</td>\n",
       "      <td>1.0</td>\n",
       "      <td>0.0</td>\n",
       "      <td>1.0</td>\n",
       "      <td>0.0</td>\n",
       "      <td>0.0</td>\n",
       "      <td>1.0</td>\n",
       "    </tr>\n",
       "    <tr>\n",
       "      <th>621</th>\n",
       "      <td>0.467718</td>\n",
       "      <td>0.403371</td>\n",
       "      <td>-0.472998</td>\n",
       "      <td>-0.312290</td>\n",
       "      <td>0.0</td>\n",
       "      <td>0.0</td>\n",
       "      <td>1.0</td>\n",
       "      <td>0.0</td>\n",
       "      <td>0.0</td>\n",
       "      <td>1.0</td>\n",
       "      <td>1.0</td>\n",
       "      <td>0.0</td>\n",
       "    </tr>\n",
       "    <tr>\n",
       "      <th>622</th>\n",
       "      <td>2.312559</td>\n",
       "      <td>0.403371</td>\n",
       "      <td>0.729768</td>\n",
       "      <td>0.135667</td>\n",
       "      <td>0.0</td>\n",
       "      <td>1.0</td>\n",
       "      <td>0.0</td>\n",
       "      <td>0.0</td>\n",
       "      <td>0.0</td>\n",
       "      <td>1.0</td>\n",
       "      <td>0.0</td>\n",
       "      <td>1.0</td>\n",
       "    </tr>\n",
       "  </tbody>\n",
       "</table>\n",
       "<p>623 rows × 12 columns</p>\n",
       "</div>"
      ],
      "text/plain": [
       "           0         1         2         3    4    5    6    7    8    9   \\\n",
       "0    1.620744 -0.457246 -0.472998 -0.122530  1.0  0.0  0.0  0.0  0.0  1.0   \n",
       "1    1.467007  0.403371 -0.472998  0.918124  1.0  0.0  0.0  1.0  0.0  0.0   \n",
       "2   -2.222675  3.845840  1.932533  0.299503  0.0  0.0  1.0  0.0  0.0  1.0   \n",
       "3    1.851349 -0.457246  0.729768  0.929702  1.0  0.0  0.0  0.0  0.0  1.0   \n",
       "4    0.000000  0.403371 -0.472998 -0.373297  0.0  0.0  1.0  1.0  0.0  0.0   \n",
       "..        ...       ...       ...       ...  ...  ...  ...  ...  ...  ...   \n",
       "618  0.698323  0.403371  0.729768  1.051455  1.0  0.0  0.0  1.0  0.0  0.0   \n",
       "619 -0.839044  0.403371 -0.472998 -0.510258  0.0  0.0  1.0  0.0  0.0  1.0   \n",
       "620  0.000000 -0.457246 -0.472998 -0.512765  0.0  0.0  1.0  0.0  1.0  0.0   \n",
       "621  0.467718  0.403371 -0.472998 -0.312290  0.0  0.0  1.0  0.0  0.0  1.0   \n",
       "622  2.312559  0.403371  0.729768  0.135667  0.0  1.0  0.0  0.0  0.0  1.0   \n",
       "\n",
       "      10   11  \n",
       "0    0.0  1.0  \n",
       "1    1.0  0.0  \n",
       "2    0.0  1.0  \n",
       "3    0.0  1.0  \n",
       "4    1.0  0.0  \n",
       "..   ...  ...  \n",
       "618  1.0  0.0  \n",
       "619  1.0  0.0  \n",
       "620  0.0  1.0  \n",
       "621  1.0  0.0  \n",
       "622  0.0  1.0  \n",
       "\n",
       "[623 rows x 12 columns]"
      ]
     },
     "execution_count": 33,
     "metadata": {},
     "output_type": "execute_result"
    }
   ],
   "source": [
    "pd.DataFrame(x_train_transformed)"
   ]
  },
  {
   "cell_type": "code",
   "execution_count": 34,
   "id": "a1452afb",
   "metadata": {},
   "outputs": [],
   "source": [
    "# pd.DataFrame(x_train_transformed).to_csv('./x_train_transformed.csv',encoding='cp949',index=False)\n",
    "# pd.DataFrame(x_test_transformed).to_csv('./x_test_transformed.csv',encoding='cp949',index=False)\n",
    "\n",
    "# pd.DataFrame(y_train).to_csv('./y_train.csv',encoding='cp949',index=False)\n",
    "# pd.DataFrame(y_test).to_csv('./y_test.csv',encoding='cp949',index=False)\n",
    "\n"
   ]
  },
  {
   "cell_type": "markdown",
   "id": "a82401f0",
   "metadata": {},
   "source": [
    "<br>\n",
    "\n",
    "## 3. Create model instance variable (동시에 여러 모델을 다른 이름으로 만들 수 있습니다.)\n",
    "\n",
    "### 사용할 모델선정 :\n",
    "* 의사결정나무\n",
    "* 로지스틱회귀\n",
    "* Ada Boosting\n",
    "* Gradient Boosting\n",
    "* XG Boosting\n",
    "* SVM\n",
    "* K최근접이웃\n",
    "* Stacking"
   ]
  },
  {
   "cell_type": "code",
   "execution_count": 35,
   "id": "167cb089",
   "metadata": {
    "scrolled": true
   },
   "outputs": [],
   "source": [
    "y_train = np.array(y_train)\n",
    "y_test = np.array(y_test)"
   ]
  },
  {
   "cell_type": "code",
   "execution_count": 41,
   "id": "1cc83818",
   "metadata": {},
   "outputs": [],
   "source": [
    "# Gradient Boost의 파라미터를 지정해줌\n",
    "params = {'n_estimators': 100,\n",
    "          'max_depth': 4,\n",
    "          'min_samples_split': 5,\n",
    "          'learning_rate': 0.01}\n",
    "\n",
    "# 모델객체 생성\n",
    "# 모든 모델 정확도의 변동이 없게 하기 위해 random_state=0으로 고정함\n",
    "decisiontree = tree.DecisionTreeClassifier(random_state=0)\n",
    "adaboost = ensemble.AdaBoostClassifier(random_state=0)\n",
    "gradientboost = ensemble.GradientBoostingClassifier(random_state=0)\n",
    "xgb_classfier = xgboost.XGBClassifier(random_state=0)\n",
    "kneighbors = neighbors.KNeighborsClassifier()\n",
    "support_vector_machine = svm.SVC(random_state=0)\n",
    "logisticlassfier = linear_model.LogisticRegression(random_state=0)\n",
    "\n",
    "\n",
    "# 생성한 모델을 리스트에 넣기\n",
    "models = [decisiontree, adaboost, gradientboost, xgb_classfier, kneighbors, support_vector_machine, logisticlassfier]"
   ]
  },
  {
   "cell_type": "code",
   "execution_count": 37,
   "id": "0e1227fd",
   "metadata": {
    "scrolled": true
   },
   "outputs": [
    {
     "name": "stdout",
     "output_type": "stream",
     "text": [
      "task:         [classification]\n",
      "n_classes:    [2]\n",
      "metric:       [accuracy_score]\n",
      "mode:         [oof_pred_bag]\n",
      "n_models:     [3]\n",
      "\n",
      "model  0:     [GradientBoostingClassifier]\n",
      "    fold  0:  [0.77564103]\n",
      "    fold  1:  [0.87179487]\n",
      "    fold  2:  [0.81410256]\n",
      "    fold  3:  [0.83870968]\n",
      "    ----\n",
      "    MEAN:     [0.82506203] + [0.03511681]\n",
      "    FULL:     [0.82504013]\n",
      "\n",
      "model  1:     [LogisticRegression]\n",
      "    fold  0:  [0.73717949]\n",
      "    fold  1:  [0.81410256]\n",
      "    fold  2:  [0.81410256]\n",
      "    fold  3:  [0.80645161]\n",
      "    ----\n",
      "    MEAN:     [0.79295906] + [0.03235547]\n",
      "    FULL:     [0.79293740]\n",
      "\n",
      "model  2:     [XGBClassifier]\n",
      "[16:00:03] WARNING: C:/Users/Administrator/workspace/xgboost-win64_release_1.5.1/src/learner.cc:1115: Starting in XGBoost 1.3.0, the default evaluation metric used with the objective 'binary:logistic' was changed from 'error' to 'logloss'. Explicitly set eval_metric if you'd like to restore the old behavior.\n",
      "    fold  0:  [0.78205128]\n",
      "[16:00:03] WARNING: C:/Users/Administrator/workspace/xgboost-win64_release_1.5.1/src/learner.cc:1115: Starting in XGBoost 1.3.0, the default evaluation metric used with the objective 'binary:logistic' was changed from 'error' to 'logloss'. Explicitly set eval_metric if you'd like to restore the old behavior.\n",
      "    fold  1:  [0.85256410]\n",
      "[16:00:03] WARNING: C:/Users/Administrator/workspace/xgboost-win64_release_1.5.1/src/learner.cc:1115: Starting in XGBoost 1.3.0, the default evaluation metric used with the objective 'binary:logistic' was changed from 'error' to 'logloss'. Explicitly set eval_metric if you'd like to restore the old behavior.\n",
      "    fold  2:  [0.82051282]\n",
      "[16:00:03] WARNING: C:/Users/Administrator/workspace/xgboost-win64_release_1.5.1/src/learner.cc:1115: Starting in XGBoost 1.3.0, the default evaluation metric used with the objective 'binary:logistic' was changed from 'error' to 'logloss'. Explicitly set eval_metric if you'd like to restore the old behavior.\n",
      "    fold  3:  [0.82580645]\n",
      "    ----\n",
      "    MEAN:     [0.82023366] + [0.02517084]\n",
      "    FULL:     [0.82022472]\n",
      "\n"
     ]
    }
   ],
   "source": [
    "# Stacking 모델\n",
    "from sklearn.ensemble import GradientBoostingClassifier\n",
    "from xgboost import XGBClassifier\n",
    "from sklearn.linear_model import LogisticRegression\n",
    "from sklearn.model_selection import train_test_split\n",
    "from sklearn.metrics import accuracy_score\n",
    "import numpy as np\n",
    "from vecstack import stacking\n",
    "\n",
    "# 돌렸던 모델 중에서 가장 정확도가 높았던 모델 세개를 선정해서 Stacking\n",
    "models = [\n",
    "    GradientBoostingClassifier(random_state = 0, n_estimators = 100, max_depth = 3),\n",
    "    LogisticRegression(random_state = 0, n_jobs = -1),\n",
    "    XGBClassifier(seed = 0, n_jobs = -1, learning_rate = 0.1, n_estimators = 100, max_depth = 3)\n",
    "]\n",
    "S_train, S_test = stacking(models,\n",
    "                           x_train_transformed, y_train, x_test_transformed,\n",
    "                           regression = False,\n",
    "                           metric = accuracy_score,\n",
    "                           n_folds = 4, stratified = True, shuffle = True,\n",
    "                           random_state = 0, verbose = 2)"
   ]
  },
  {
   "cell_type": "markdown",
   "id": "8fee271c",
   "metadata": {},
   "source": [
    "<br>\n",
    "\n",
    "## 5. Predict on test data & Check the result with metrics (모델 간 비교가 가능합니다.)"
   ]
  },
  {
   "cell_type": "code",
   "execution_count": 43,
   "id": "76637281",
   "metadata": {
    "scrolled": true
   },
   "outputs": [
    {
     "name": "stdout",
     "output_type": "stream",
     "text": [
      "-------------------------\n",
      "DecisionTreeClassifier\n",
      "train 정확도 : 0.9791332263242376\n",
      "test 정확도 : 0.7686567164179104\n",
      "군집분석 리포트 :               precision    recall  f1-score   support\n",
      "\n",
      "           0       0.82      0.80      0.81       168\n",
      "           1       0.68      0.71      0.70       100\n",
      "\n",
      "    accuracy                           0.77       268\n",
      "   macro avg       0.75      0.76      0.75       268\n",
      "weighted avg       0.77      0.77      0.77       268\n",
      "\n",
      "-------------------------\n",
      "AdaBoostClassifier\n",
      "train 정확도 : 0.8459069020866774\n",
      "test 정확도 : 0.8097014925373134\n",
      "군집분석 리포트 :               precision    recall  f1-score   support\n",
      "\n",
      "           0       0.84      0.86      0.85       168\n",
      "           1       0.75      0.73      0.74       100\n",
      "\n",
      "    accuracy                           0.81       268\n",
      "   macro avg       0.80      0.79      0.80       268\n",
      "weighted avg       0.81      0.81      0.81       268\n",
      "\n",
      "-------------------------\n",
      "GradientBoostingClassifier\n",
      "train 정확도 : 0.9117174959871589\n",
      "test 정확도 : 0.8470149253731343\n",
      "군집분석 리포트 :               precision    recall  f1-score   support\n",
      "\n",
      "           0       0.85      0.91      0.88       168\n",
      "           1       0.83      0.74      0.78       100\n",
      "\n",
      "    accuracy                           0.85       268\n",
      "   macro avg       0.84      0.83      0.83       268\n",
      "weighted avg       0.85      0.85      0.84       268\n",
      "\n",
      "-------------------------\n",
      "[16:01:08] WARNING: C:/Users/Administrator/workspace/xgboost-win64_release_1.5.1/src/learner.cc:1115: Starting in XGBoost 1.3.0, the default evaluation metric used with the objective 'binary:logistic' was changed from 'error' to 'logloss'. Explicitly set eval_metric if you'd like to restore the old behavior.\n",
      "XGBClassifier\n",
      "train 정확도 : 0.9695024077046549\n",
      "test 정확도 : 0.8134328358208955\n",
      "군집분석 리포트 :               precision    recall  f1-score   support\n",
      "\n",
      "           0       0.85      0.86      0.85       168\n",
      "           1       0.76      0.74      0.75       100\n",
      "\n",
      "    accuracy                           0.81       268\n",
      "   macro avg       0.80      0.80      0.80       268\n",
      "weighted avg       0.81      0.81      0.81       268\n",
      "\n",
      "-------------------------\n",
      "KNeighborsClassifier\n",
      "train 정확도 : 0.8619582664526485\n",
      "test 정확도 : 0.7835820895522388\n",
      "군집분석 리포트 :               precision    recall  f1-score   support\n",
      "\n",
      "           0       0.83      0.82      0.83       168\n",
      "           1       0.71      0.72      0.71       100\n",
      "\n",
      "    accuracy                           0.78       268\n",
      "   macro avg       0.77      0.77      0.77       268\n",
      "weighted avg       0.78      0.78      0.78       268\n",
      "\n",
      "-------------------------\n",
      "SVC\n",
      "train 정확도 : 0.8459069020866774\n",
      "test 정확도 : 0.8059701492537313\n",
      "군집분석 리포트 :               precision    recall  f1-score   support\n",
      "\n",
      "           0       0.83      0.87      0.85       168\n",
      "           1       0.76      0.70      0.73       100\n",
      "\n",
      "    accuracy                           0.81       268\n",
      "   macro avg       0.80      0.78      0.79       268\n",
      "weighted avg       0.80      0.81      0.80       268\n",
      "\n",
      "-------------------------\n",
      "LogisticRegression\n",
      "train 정확도 : 0.8073836276083467\n",
      "test 정확도 : 0.7985074626865671\n",
      "군집분석 리포트 :               precision    recall  f1-score   support\n",
      "\n",
      "           0       0.84      0.85      0.84       168\n",
      "           1       0.73      0.72      0.73       100\n",
      "\n",
      "    accuracy                           0.80       268\n",
      "   macro avg       0.78      0.78      0.78       268\n",
      "weighted avg       0.80      0.80      0.80       268\n",
      "\n",
      "-------------------------\n",
      "Stacking\n",
      "train 정확도 : 0.8298555377207063\n",
      "test 정확도 : 0.8470149253731343\n"
     ]
    }
   ],
   "source": [
    "# for문을 돌려서 학습, 예측 후 결과를 출력\n",
    "print ('-----'*5)\n",
    "for model in models:\n",
    "    model.fit(x_train_transformed, y_train)\n",
    "    print(model.__class__.__name__)\n",
    "    # print('MSE :',metrics.mean_squared_error(y_test, model.predict(x_test_transformed)))\n",
    "    print('train 정확도 :',metrics.accuracy_score(y_train, model.predict(x_train_transformed)))\n",
    "    print('test 정확도 :',metrics.accuracy_score(y_test, model.predict(x_test_transformed)))\n",
    "    print('군집분석 리포트 :',metrics.classification_report(y_test, model.predict(x_test_transformed)))\n",
    "    print ('-----'*5)\n",
    "\n",
    "model = GradientBoostingClassifier(random_state = 0, n_estimators = 100, max_depth = 3)\n",
    "model = model.fit(S_train, y_train) \n",
    "\n",
    "print('Stacking')\n",
    "print('train 정확도 :',metrics.accuracy_score(y_train, model.predict(S_train)))\n",
    "print('test 정확도 :',metrics.accuracy_score(y_test,model.predict(S_test)))\n",
    "\n",
    "\n"
   ]
  },
  {
   "cell_type": "markdown",
   "id": "08026de5",
   "metadata": {},
   "source": [
    "### 모델링 결과\n",
    "|모델명|train정확도|test정확도|\n",
    "|---|---|---|\n",
    "|의사결정나무|0.97|0.78|\n",
    "|로지스틱회귀|0.81|0.80|\n",
    "|Ada Boosting|0.85|0.81|\n",
    "|Gradient Boosting|**0.91**|**0.85**|\n",
    "|XG Boosting|0.96|0.82|\n",
    "|SVM|0.90|0.80|\n",
    "|K최근접이웃|0.86|0.79|\n",
    "|Stacking|0.83|0.85|\n",
    "\n",
    "`GradientBoosting Classifier`**의 정확도가 가장 높게 산출되었다.**"
   ]
  },
  {
   "cell_type": "markdown",
   "id": "ad059c8f",
   "metadata": {},
   "source": [
    "## 6. Model score Visualization\n",
    "\n",
    "### 6-1 Feature Importance"
   ]
  },
  {
   "cell_type": "code",
   "execution_count": 44,
   "id": "2c048a9d",
   "metadata": {},
   "outputs": [
    {
     "data": {
      "image/png": "[encoded data removed]",
      "text/plain": [
       "<Figure size 864x432 with 2 Axes>"
      ]
     },
     "metadata": {
      "needs_background": "light"
     },
     "output_type": "display_data"
    }
   ],
   "source": [
    "fig = plt.figure(figsize=(12, 6))\n",
    "\n",
    "col = ['Age','SibSp', 'Parch', 'Fare', 'Pclass_1','Pclass_2','Pclass_3','Embarked_on_C','Embarked_on_Q','Embarked_on_S','Male','Female']\n",
    "feature_importance = gradientboost.feature_importances_\n",
    "sorted_idx = np.argsort(feature_importance)\n",
    "pos = np.arange(sorted_idx.shape[0]) + .5\n",
    "plt.subplot(1, 2, 1)\n",
    "\n",
    "plt.barh(pos, feature_importance[sorted_idx], align='center')\n",
    "plt.yticks(pos, np.array(col)[sorted_idx])\n",
    "plt.title('Feature Importance (MDI)')\n",
    "\n",
    "result = permutation_importance(gradientboost, x_test_transformed, y_test, n_repeats=10, random_state=42, n_jobs=2)\n",
    "sorted_idx = result.importances_mean.argsort()\n",
    "plt.subplot(1, 2, 2)\n",
    "plt.boxplot(result.importances[sorted_idx].T, vert=False, labels=np.array(col)[sorted_idx])\n",
    "plt.title(\"Permutation Importance (test set)\")\n",
    "\n",
    "fig.tight_layout()\n",
    "plt.show()"
   ]
  },
  {
   "cell_type": "markdown",
   "id": "3415434b",
   "metadata": {},
   "source": [
    "### 6-2 Accuracy Curve"
   ]
  },
  {
   "cell_type": "code",
   "execution_count": 45,
   "id": "d0bc2540",
   "metadata": {},
   "outputs": [
    {
     "data": {
      "image/png": "[encoded data removed]",
      "text/plain": [
       "<Figure size 864x432 with 1 Axes>"
      ]
     },
     "metadata": {
      "needs_background": "light"
     },
     "output_type": "display_data"
    }
   ],
   "source": [
    "train_score = np.zeros((params['n_estimators'],), dtype=np.float64)\n",
    "for i, y_pred in enumerate(gradientboost.staged_predict(x_train_transformed)):\n",
    "    train_score[i] = metrics.accuracy_score(y_train, y_pred)\n",
    "\n",
    "test_score = np.zeros((params['n_estimators'],), dtype=np.float64)\n",
    "for i, y_pred in enumerate(gradientboost.staged_predict(x_test_transformed)):\n",
    "    test_score[i] = metrics.accuracy_score(y_test, y_pred)\n",
    "    \n",
    "fig = plt.figure(figsize=(12, 6))\n",
    "plt.subplot(1, 1, 1)\n",
    "plt.title('Accuracy') # Binomial deviance loss function for binary classification\n",
    "plt.plot(np.arange(params['n_estimators']) + 1, train_score, 'b-', label='Training Set Accuracy')\n",
    "plt.plot(np.arange(params['n_estimators']) + 1, test_score, 'r-', label='Test Set Accuracy')\n",
    "plt.legend(loc='upper right')\n",
    "plt.xlabel('Boosting Iterations')\n",
    "plt.ylabel('Accuracy')\n",
    "fig.tight_layout()\n",
    "plt.show()"
   ]
  },
  {
   "cell_type": "markdown",
   "id": "99675837",
   "metadata": {},
   "source": [
    "### 6-3 ROC, AUC"
   ]
  },
  {
   "cell_type": "code",
   "execution_count": 46,
   "id": "ae04a6f6",
   "metadata": {},
   "outputs": [
    {
     "data": {
      "image/png": "[encoded data removed]",
      "text/plain": [
       "<Figure size 720x720 with 1 Axes>"
      ]
     },
     "metadata": {
      "needs_background": "light"
     },
     "output_type": "display_data"
    }
   ],
   "source": [
    "from sklearn.metrics import roc_curve, auc\n",
    "\n",
    "fpr1, tpr1, _ = roc_curve(y_true=y_test, y_score=decisiontree.predict_proba(x_test_transformed)[:,1]) # real y & predicted y (based on \"Sepal width\")\n",
    "roc_auc1 = auc(fpr1, tpr1) # AUC 면적의 값 (수치)\n",
    "\n",
    "fpr6, tpr6, _ = roc_curve(y_true=y_test, y_score=logisticlassfier.predict_proba(x_test_transformed)[:,1]) # real y & predicted y (based on \"Sepal width\")\n",
    "roc_auc6 = auc(fpr6, tpr6) # AUC 면적의 값 (수치)\n",
    "# \n",
    "fpr2, tpr2, _ = roc_curve(y_true=y_test, y_score=adaboost.predict_proba(x_test_transformed)[:,1]) # real y & predicted y (based on \"Sepal width\")\n",
    "roc_auc2 = auc(fpr2, tpr2) # AUC 면적의 값 (수치)\n",
    "\n",
    "fpr3, tpr3, _ = roc_curve(y_true=y_test, y_score=gradientboost.predict_proba(x_test_transformed)[:,1]) # real y & predicted y (based on \"Sepal width\")\n",
    "roc_auc3 = auc(fpr3, tpr3) # AUC 면적의 값 (수치)\n",
    "\n",
    "fpr4, tpr4, _ = roc_curve(y_true=y_test, y_score=xgb_classfier.predict_proba(x_test_transformed)[:,1]) # real y & predicted y (based on \"Sepal width\")\n",
    "roc_auc4 = auc(fpr4, tpr4) # AUC 면적의 값 (수치)\n",
    "\n",
    "fpr5, tpr5, _ = roc_curve(y_true=y_test, y_score=kneighbors.predict_proba(x_test_transformed)[:,1]) # real y & predicted y (based on \"Sepal width\")\n",
    "roc_auc5 = auc(fpr5, tpr5) # AUC 면적의 값 (수치)\n",
    "\n",
    "#fpr, tpr, _ = roc_curve(y_true=y_test, y_score=support_vector_machine.predict_proba(x_test_transformed)[:,1]) # real y & predicted y (based on \"Sepal width\")\n",
    "#roc_auc = auc(fpr, tpr) # AUC 면적의 값 (수치)\n",
    "\n",
    "plt.figure(figsize=(10, 10))\n",
    "plt.plot(fpr1, tpr1, color='darkorange', lw=2, label='DecisionTree (area = %0.2f)' % roc_auc1)\n",
    "plt.plot(fpr2, tpr2, color='red', lw=2, label='Ada Boost (area = %0.2f)' % roc_auc2)\n",
    "plt.plot(fpr3, tpr3, color='blue', lw=2, label='Gradient Boost (area = %0.2f)' % roc_auc3)\n",
    "plt.plot(fpr4, tpr4, color='green', lw=2, label='XG Boost (area = %0.2f)' % roc_auc4)\n",
    "plt.plot(fpr5, tpr5, color='brown', lw=2, label='K-Neighbers (area = %0.2f)' % roc_auc5)\n",
    "plt.plot(fpr6, tpr6, color='c', lw=2, label='Logistic Regression (area = %0.2f)' % roc_auc6)\n",
    "\n",
    "\n",
    "plt.plot([0, 1], [0, 1], color='navy', lw=2, linestyle='--')\n",
    "\n",
    "plt.xlim([0.0, 1.0])\n",
    "plt.ylim([0.0, 1.05])\n",
    "plt.xlabel('False Positive Rate')\n",
    "plt.ylabel('True Positive Rate')\n",
    "plt.legend(loc=\"lower right\")\n",
    "plt.title(\"ROC curve\")\n",
    "plt.show()"
   ]
  },
  {
   "cell_type": "markdown",
   "id": "8a9e46fe",
   "metadata": {},
   "source": [
    "### +) Grid Search"
   ]
  },
  {
   "cell_type": "code",
   "execution_count": 47,
   "id": "f823bab2",
   "metadata": {},
   "outputs": [
    {
     "name": "stdout",
     "output_type": "stream",
     "text": [
      "모델 정확도:  0.8470\n",
      "학습 시간:  0.0585\n",
      "Fitting 2 folds for each of 96 candidates, totalling 192 fits\n",
      "최적의 파라미터: {'learning_rate': 0.01, 'max_depth': 3, 'min_samples_split': 3, 'n_estimators': 300, 'random_state': 0}\n",
      "최고의 정확도: 0.8089960013191524\n"
     ]
    }
   ],
   "source": [
    "from sklearn.ensemble import GradientBoostingClassifier\n",
    "from sklearn.metrics import accuracy_score\n",
    "import time\n",
    "\n",
    "start_time = time.time()\n",
    "\n",
    "gb_clf = GradientBoostingClassifier()\n",
    "gb_clf.fit(x_train_transformed, y_train)\n",
    "gb_pred = gb_clf.predict(x_test_transformed)\n",
    "gb_acc = accuracy_score(y_test, gb_pred)\n",
    "\n",
    "print(f'모델 정확도: {gb_acc : .4f}')\n",
    "print(f'학습 시간: {time.time()-start_time : .4f}')\n",
    "\n",
    "from sklearn.model_selection import GridSearchCV\n",
    "\n",
    "params = {'n_estimators':[100, 250, 300, 350],\n",
    "          'max_depth':[2, 3, 4, 5,],\n",
    "          'min_samples_split': [3, 4,5,],\n",
    "          'learning_rate': [0.01, 0.1],\n",
    "          'random_state' : [0],\n",
    "         }\n",
    "\n",
    "\n",
    "grid_cv = GridSearchCV(gb_clf, param_grid=params,\n",
    "                      n_jobs=-1, cv=2, verbose=1)\n",
    "grid_cv.fit(x_train_transformed, y_train)\n",
    "\n",
    "print(f'최적의 파라미터:', grid_cv.best_params_)\n",
    "print(f'최고의 정확도:', grid_cv.best_score_)"
   ]
  },
  {
   "cell_type": "code",
   "execution_count": 48,
   "id": "eddbcb08",
   "metadata": {},
   "outputs": [
    {
     "name": "stdout",
     "output_type": "stream",
     "text": [
      "train 정확도 : 0.8507223113964687\n",
      "test 정확도 : 0.8171641791044776\n"
     ]
    }
   ],
   "source": [
    "params = {'n_estimators':300,\n",
    "          'max_depth':3,\n",
    "          'min_samples_split': 3,\n",
    "          'learning_rate': 0.01,\n",
    "          'random_state' : 0,\n",
    "         }\n",
    "\n",
    "\n",
    "gridsearched_gb = ensemble.GradientBoostingClassifier(**params)\n",
    "gridsearched_gb.fit(x_train_transformed, y_train)\n",
    "print('train 정확도 :',metrics.accuracy_score(y_train, gridsearched_gb.predict(x_train_transformed)))\n",
    "print('test 정확도 :',metrics.accuracy_score(y_test, gridsearched_gb.predict(x_test_transformed)))   "
   ]
  },
  {
   "cell_type": "markdown",
   "id": "c0aa976e",
   "metadata": {},
   "source": [
    "## 7. Conclusion & Discussion\n",
    "\n",
    "### 가장 정확도가 높은 모델 : \n",
    "`Gradient Boosting`\n",
    "\n",
    "### 문헌과의 차이 :\n",
    "* `Grid Search` 로 구한 가장 좋은 Hyper Parameter를 적용했을 때 모델 정확도가 0.85에서 0.82로 감소하였다.\n",
    "* `Stacking` 으로 구한 두 정확도 중 Train정확도보다 Test정확도가 낮았다.\n",
    "\n",
    "### 고찰 :\n",
    "* Grid Search시 정확도가 낮아진 이유 -> `Cross Validation`시 한 fold당 표본개수가 부족하기 때문\n",
    "    \n",
    "### 후속과제 :\n",
    "* Age컬럼 전처리 시 하나의 모델이 아닌 여러 개의 모델을 사용하여 정확도 교차검증\n",
    "* Bayesian, Randomized Search 시행\n",
    "* Ligt gbm 모델 추가시행\n",
    "* `Name`칼럼을 추가해서 탑승자의 가문이 생존여부와 상관있는지 고찰, 모델 정확도 향상 기대\n"
   ]
  }
 ],
 "metadata": {
  "kernelspec": {
   "display_name": "Python 3",
   "language": "python",
   "name": "python3"
  },
  "language_info": {
   "codemirror_mode": {
    "name": "ipython",
    "version": 3
   },
   "file_extension": ".py",
   "mimetype": "text/x-python",
   "name": "python",
   "nbconvert_exporter": "python",
   "pygments_lexer": "ipython3",
   "version": "3.8.8"
  }
 },
 "nbformat": 4,
 "nbformat_minor": 5
}
