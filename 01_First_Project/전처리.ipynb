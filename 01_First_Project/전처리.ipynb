{
 "cells": [
  {
   "cell_type": "code",
   "execution_count": 1,
   "id": "253ee84b",
   "metadata": {},
   "outputs": [
    {
     "data": {
      "text/plain": [
       "'C:\\\\Users\\\\user\\\\Desktop\\\\DS_ysp\\\\pr\\\\Block-IO\\\\Block-IO'"
      ]
     },
     "execution_count": 1,
     "metadata": {},
     "output_type": "execute_result"
    }
   ],
   "source": [
    "%pwd"
   ]
  },
  {
   "cell_type": "code",
   "execution_count": 22,
   "id": "5d2525bf",
   "metadata": {},
   "outputs": [],
   "source": [
    "import pandas as pd\n",
    "import numpy as np"
   ]
  },
  {
   "cell_type": "code",
   "execution_count": 23,
   "id": "6a433698",
   "metadata": {},
   "outputs": [],
   "source": [
    "# 10 만 단위로\n",
    "a_l = ['web_3', 'rsrch_1']\n",
    "\n",
    "col = ['Timestamp', 'Hostname', 'DiskNumber', 'Type', 'Offset', 'Size', 'ResponseTime']\n",
    "line_size = 100000  # 10 만 단위로\n",
    "\n",
    "from sklearn.preprocessing import LabelEncoder\n",
    "\n",
    "def lab_pd(df):\n",
    "    le = LabelEncoder()\n",
    "    le.fit(df)\n",
    "    return le.transform(df)\n"
   ]
  },
  {
   "cell_type": "code",
   "execution_count": 24,
   "id": "7784cdf9",
   "metadata": {},
   "outputs": [],
   "source": [
    "import pandas as pd\n",
    "import numpy as np\n",
    "\n",
    "a_l = [web_0, web_1, web_2, web_3, mds_0, mds_1, wdev_0, wdecv_1, wdev_2, wdev_3]\n",
    "\n",
    "col = ['Timestamp', 'Hostname', 'DiskNumber', 'Type', 'Offset', 'Size', 'ResponseTime']\n",
    "line_size = 100000  # 10 만 단위로\n",
    "\n",
    "from sklearn.preprocessing import LabelEncoder\n",
    "\n",
    "def lab_pd(df):\n",
    "    le = LabelEncoder()\n",
    "    le.fit(df)\n",
    "    return le.transform(df)\n",
    "\n",
    "for i in a_l:\n",
    "    tt_df = pd.read_csv(f'./{i}.csv',names=col,nrows = line_size)\n",
    "    tt_df = tt_df.iloc[:, 3:8]\n",
    "    tt_df['Type'] = lab_pd(tt_df['Type'])\n",
    "    tt_df.to_csv(f'dp_{i}.csv',header=False,index=False,mode='a')"
   ]
  },
  {
   "cell_type": "code",
   "execution_count": null,
   "id": "97044c97",
   "metadata": {},
   "outputs": [],
   "source": []
  }
 ],
 "metadata": {
  "kernelspec": {
   "display_name": "Python 3 (ipykernel)",
   "language": "python",
   "name": "python3"
  },
  "language_info": {
   "codemirror_mode": {
    "name": "ipython",
    "version": 3
   },
   "file_extension": ".py",
   "mimetype": "text/x-python",
   "name": "python",
   "nbconvert_exporter": "python",
   "pygments_lexer": "ipython3",
   "version": "3.9.13"
  }
 },
 "nbformat": 4,
 "nbformat_minor": 5
}
